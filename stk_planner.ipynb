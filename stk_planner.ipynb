{
 "cells": [
  {
   "cell_type": "code",
   "execution_count": 13,
   "metadata": {},
   "outputs": [
    {
     "ename": "ModuleNotFoundError",
     "evalue": "No module named 'matplotlib'",
     "output_type": "error",
     "traceback": [
      "\u001b[1;31m---------------------------------------------------------------------------\u001b[0m",
      "\u001b[1;31mModuleNotFoundError\u001b[0m                       Traceback (most recent call last)",
      "Cell \u001b[1;32mIn[13], line 1\u001b[0m\n\u001b[1;32m----> 1\u001b[0m \u001b[38;5;28;01mimport\u001b[39;00m \u001b[38;5;21;01mmatplotlib\u001b[39;00m\u001b[38;5;21;01m.\u001b[39;00m\u001b[38;5;21;01mpyplot\u001b[39;00m \u001b[38;5;28;01mas\u001b[39;00m \u001b[38;5;21;01mplt\u001b[39;00m\n\u001b[0;32m      2\u001b[0m \u001b[38;5;28;01mimport\u001b[39;00m \u001b[38;5;21;01mcalendar\u001b[39;00m\n\u001b[0;32m      3\u001b[0m \u001b[38;5;28;01mfrom\u001b[39;00m \u001b[38;5;21;01mdatetime\u001b[39;00m \u001b[38;5;28;01mimport\u001b[39;00m datetime\n",
      "\u001b[1;31mModuleNotFoundError\u001b[0m: No module named 'matplotlib'"
     ]
    }
   ],
   "source": [
    "import matplotlib.pyplot as plt\n",
    "import calendar\n",
    "from datetime import datetime\n",
    "import pandas as pd"
   ]
  },
  {
   "cell_type": "code",
   "execution_count": null,
   "metadata": {},
   "outputs": [],
   "source": [
    "\n",
    "def create_monthly_planner(dates):\n",
    "    # Convert the list of string dates to datetime objects using the correct format\n",
    "    date_objects = [datetime.strptime(date, \"%d/%m/%Y\") for date in dates]\n",
    "    \n",
    "    # Organize dates by month and year\n",
    "    dates_by_month = {}\n",
    "    for date in date_objects:\n",
    "        key = (date.year, date.month)\n",
    "        if key not in dates_by_month:\n",
    "            dates_by_month[key] = []\n",
    "        dates_by_month[key].append(date)\n",
    "\n",
    "    # Generate and print a calendar for each month\n",
    "    for (year, month), dates in dates_by_month.items():\n",
    "        cal = calendar.monthcalendar(year, month)\n",
    "        print('\\n')\n",
    "        print(calendar.month_name[month], year)\n",
    "        print('Mo  Tu  We  Th  Fr  Sa  Su')\n",
    "        \n",
    "        for week in cal:\n",
    "            week_str = ''\n",
    "            for day in week:\n",
    "                if day == 0:\n",
    "                    day_str = \"    \"\n",
    "                elif datetime(year, month, day) in dates:\n",
    "                    day_str = f\"{day:2d}* \"\n",
    "                else:\n",
    "                    day_str = f\"{day:2d}  \"\n",
    "                week_str += day_str\n",
    "            print(week_str)"
   ]
  },
  {
   "cell_type": "code",
   "execution_count": 14,
   "metadata": {},
   "outputs": [
    {
     "name": "stdout",
     "output_type": "stream",
     "text": [
      "[(5, 21), (5, 24), (5, 28), (6, 7), (6, 11), (6, 14), (6, 18), (6, 21), (6, 25), (6, 28), (7, 5), (7, 9), (7, 12), (7, 16), (7, 19), (7, 23), (7, 26), (7, 30), (8, 6), (8, 9), (8, 13), (9, 10), (9, 10), (9, 11), (9, 12), (9, 12)]\n"
     ]
    }
   ],
   "source": [
    "df = pd.read_csv(r'.\\CHANEL FBP Stocktake 2024_draft schedule.csv')\n",
    "stk_dates = [(datetime.strptime(date, \"%d/%m/%Y\").month, datetime.strptime(date, \"%d/%m/%Y\").day) for date in df['STOCK TAKE DATE']]\n",
    "print(stk_dates)"
   ]
  },
  {
   "cell_type": "code",
   "execution_count": null,
   "metadata": {},
   "outputs": [
    {
     "name": "stdout",
     "output_type": "stream",
     "text": [
      "\n",
      "\n",
      "May 2024\n",
      "Mo  Tu  We  Th  Fr  Sa  Su\n",
      "         1   2   3   4   5  \n",
      " 6   7   8   9  10  11  12  \n",
      "13  14  15  16  17  18  19  \n",
      "20  21* 22  23  24* 25  26  \n",
      "27  28* 29  30  31          \n",
      "\n",
      "\n",
      "June 2024\n",
      "Mo  Tu  We  Th  Fr  Sa  Su\n",
      "                     1   2  \n",
      " 3   4   5   6   7*  8   9  \n",
      "10  11* 12  13  14* 15  16  \n",
      "17  18* 19  20  21* 22  23  \n",
      "24  25* 26  27  28* 29  30  \n",
      "\n",
      "\n",
      "July 2024\n",
      "Mo  Tu  We  Th  Fr  Sa  Su\n",
      " 1   2   3   4   5*  6   7  \n",
      " 8   9* 10  11  12* 13  14  \n",
      "15  16* 17  18  19* 20  21  \n",
      "22  23* 24  25  26* 27  28  \n",
      "29  30* 31                  \n",
      "\n",
      "\n",
      "August 2024\n",
      "Mo  Tu  We  Th  Fr  Sa  Su\n",
      "             1   2   3   4  \n",
      " 5   6*  7   8   9* 10  11  \n",
      "12  13* 14  15  16  17  18  \n",
      "19  20  21  22  23  24  25  \n",
      "26  27  28  29  30  31      \n",
      "\n",
      "\n",
      "September 2024\n",
      "Mo  Tu  We  Th  Fr  Sa  Su\n",
      "                         1  \n",
      " 2   3   4   5   6   7   8  \n",
      " 9  10* 11* 12* 13  14  15  \n",
      "16  17  18  19  20  21  22  \n",
      "23  24  25  26  27  28  29  \n",
      "30                          \n"
     ]
    }
   ],
   "source": [
    "create_monthly_planner(df['STOCK TAKE DATE'])"
   ]
  },
  {
   "cell_type": "code",
   "execution_count": null,
   "metadata": {},
   "outputs": [],
   "source": []
  }
 ],
 "metadata": {
  "kernelspec": {
   "display_name": "FAS_fs_generator",
   "language": "python",
   "name": "python3"
  },
  "language_info": {
   "codemirror_mode": {
    "name": "ipython",
    "version": 3
   },
   "file_extension": ".py",
   "mimetype": "text/x-python",
   "name": "python",
   "nbconvert_exporter": "python",
   "pygments_lexer": "ipython3",
   "version": "3.11.5"
  }
 },
 "nbformat": 4,
 "nbformat_minor": 2
}
